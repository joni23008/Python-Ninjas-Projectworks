{
 "cells": [
  {
   "cell_type": "markdown",
   "id": "3add7131",
   "metadata": {
    "papermill": {
     "duration": 0.003809,
     "end_time": "2023-10-31T21:34:37.775427",
     "exception": false,
     "start_time": "2023-10-31T21:34:37.771618",
     "status": "completed"
    },
    "tags": []
   },
   "source": [
    "## Import Packages\n"
   ]
  },
  {
   "cell_type": "code",
   "execution_count": 1,
   "id": "a11efd37",
   "metadata": {
    "execution": {
     "iopub.execute_input": "2023-10-31T21:34:37.785439Z",
     "iopub.status.busy": "2023-10-31T21:34:37.785126Z",
     "iopub.status.idle": "2023-10-31T21:34:40.131821Z",
     "shell.execute_reply": "2023-10-31T21:34:40.130663Z"
    },
    "papermill": {
     "duration": 2.353551,
     "end_time": "2023-10-31T21:34:40.134262",
     "exception": false,
     "start_time": "2023-10-31T21:34:37.780711",
     "status": "completed"
    },
    "tags": []
   },
   "outputs": [],
   "source": [
    "import pandas as pd\n",
    "import matplotlib.pyplot as plt\n",
    "from sklearn.decomposition import PCA\n",
    "from sklearn.cluster import KMeans\n",
    "from sklearn.preprocessing import StandardScaler\n",
    "import warnings\n",
    "from sklearn.model_selection import train_test_split\n",
    "\n",
    "warnings.filterwarnings(\"ignore\", category=FutureWarning)"
   ]
  },
  {
   "cell_type": "markdown",
   "id": "87ea178f",
   "metadata": {
    "papermill": {
     "duration": 0.002997,
     "end_time": "2023-10-31T21:34:40.140751",
     "exception": false,
     "start_time": "2023-10-31T21:34:40.137754",
     "status": "completed"
    },
    "tags": []
   },
   "source": [
    "## Load Dataset\n"
   ]
  },
  {
   "cell_type": "code",
   "execution_count": 2,
   "id": "f068dbb5",
   "metadata": {
    "execution": {
     "iopub.execute_input": "2023-10-31T21:34:40.148828Z",
     "iopub.status.busy": "2023-10-31T21:34:40.148352Z",
     "iopub.status.idle": "2023-10-31T21:34:40.190157Z",
     "shell.execute_reply": "2023-10-31T21:34:40.189086Z"
    },
    "papermill": {
     "duration": 0.049178,
     "end_time": "2023-10-31T21:34:40.193094",
     "exception": false,
     "start_time": "2023-10-31T21:34:40.143916",
     "status": "completed"
    },
    "tags": []
   },
   "outputs": [],
   "source": [
    "penguins_df = pd.read_csv(\"../archive/penguins.csv\")"
   ]
  },
  {
   "cell_type": "markdown",
   "id": "2fbec402",
   "metadata": {},
   "source": [
    "## Examine dataset"
   ]
  },
  {
   "cell_type": "code",
   "execution_count": 3,
   "id": "698334cb",
   "metadata": {},
   "outputs": [
    {
     "data": {
      "text/plain": [
       "culmen_length_mm     2\n",
       "culmen_depth_mm      2\n",
       "flipper_length_mm    2\n",
       "body_mass_g          2\n",
       "sex                  9\n",
       "dtype: int64"
      ]
     },
     "execution_count": 3,
     "metadata": {},
     "output_type": "execute_result"
    }
   ],
   "source": [
    "# penguins_df\n",
    "# penguins_df.shape\n",
    "# penguins_df.head(n=10)\n",
    "# penguins_df.tail(n=10)\n",
    "# penguins_df.describe\n",
    "# penguins_df.columns\n",
    "penguins_df.isnull().sum()\n",
    "# penguins_df.dtypes"
   ]
  },
  {
   "cell_type": "markdown",
   "id": "52144f25",
   "metadata": {
    "papermill": {
     "duration": 0.003199,
     "end_time": "2023-10-31T21:34:40.199879",
     "exception": false,
     "start_time": "2023-10-31T21:34:40.196680",
     "status": "completed"
    },
    "tags": []
   },
   "source": [
    "## Dealing with null values and outliers\n"
   ]
  },
  {
   "cell_type": "code",
   "execution_count": 4,
   "id": "e96c4600",
   "metadata": {
    "execution": {
     "iopub.execute_input": "2023-10-31T21:34:40.209222Z",
     "iopub.status.busy": "2023-10-31T21:34:40.208123Z",
     "iopub.status.idle": "2023-10-31T21:34:40.439279Z",
     "shell.execute_reply": "2023-10-31T21:34:40.438410Z"
    },
    "papermill": {
     "duration": 0.237607,
     "end_time": "2023-10-31T21:34:40.441000",
     "exception": false,
     "start_time": "2023-10-31T21:34:40.203393",
     "status": "completed"
    },
    "tags": []
   },
   "outputs": [
    {
     "data": {
      "image/png": "[encoded data removed]",
      "text/plain": [
       "<Figure size 640x480 with 1 Axes>"
      ]
     },
     "metadata": {},
     "output_type": "display_data"
    },
    {
     "data": {
      "text/html": [
       "<div>\n",
       "<style scoped>\n",
       "    .dataframe tbody tr th:only-of-type {\n",
       "        vertical-align: middle;\n",
       "    }\n",
       "\n",
       "    .dataframe tbody tr th {\n",
       "        vertical-align: top;\n",
       "    }\n",
       "\n",
       "    .dataframe thead th {\n",
       "        text-align: right;\n",
       "    }\n",
       "</style>\n",
       "<table border=\"1\" class=\"dataframe\">\n",
       "  <thead>\n",
       "    <tr style=\"text-align: right;\">\n",
       "      <th></th>\n",
       "      <th>culmen_length_mm</th>\n",
       "      <th>culmen_depth_mm</th>\n",
       "      <th>flipper_length_mm</th>\n",
       "      <th>body_mass_g</th>\n",
       "      <th>sex</th>\n",
       "    </tr>\n",
       "  </thead>\n",
       "  <tbody>\n",
       "    <tr>\n",
       "      <th>0</th>\n",
       "      <td>39.1</td>\n",
       "      <td>18.7</td>\n",
       "      <td>181.0</td>\n",
       "      <td>3750.0</td>\n",
       "      <td>MALE</td>\n",
       "    </tr>\n",
       "    <tr>\n",
       "      <th>1</th>\n",
       "      <td>39.5</td>\n",
       "      <td>17.4</td>\n",
       "      <td>186.0</td>\n",
       "      <td>3800.0</td>\n",
       "      <td>FEMALE</td>\n",
       "    </tr>\n",
       "    <tr>\n",
       "      <th>2</th>\n",
       "      <td>40.3</td>\n",
       "      <td>18.0</td>\n",
       "      <td>195.0</td>\n",
       "      <td>3250.0</td>\n",
       "      <td>FEMALE</td>\n",
       "    </tr>\n",
       "    <tr>\n",
       "      <th>4</th>\n",
       "      <td>36.7</td>\n",
       "      <td>19.3</td>\n",
       "      <td>193.0</td>\n",
       "      <td>3450.0</td>\n",
       "      <td>FEMALE</td>\n",
       "    </tr>\n",
       "    <tr>\n",
       "      <th>5</th>\n",
       "      <td>39.3</td>\n",
       "      <td>20.6</td>\n",
       "      <td>190.0</td>\n",
       "      <td>3650.0</td>\n",
       "      <td>MALE</td>\n",
       "    </tr>\n",
       "  </tbody>\n",
       "</table>\n",
       "</div>"
      ],
      "text/plain": [
       "   culmen_length_mm  culmen_depth_mm  flipper_length_mm  body_mass_g     sex\n",
       "0              39.1             18.7              181.0       3750.0    MALE\n",
       "1              39.5             17.4              186.0       3800.0  FEMALE\n",
       "2              40.3             18.0              195.0       3250.0  FEMALE\n",
       "4              36.7             19.3              193.0       3450.0  FEMALE\n",
       "5              39.3             20.6              190.0       3650.0    MALE"
      ]
     },
     "execution_count": 4,
     "metadata": {},
     "output_type": "execute_result"
    }
   ],
   "source": [
    "penguins_df.boxplot()\n",
    "plt.show()\n",
    "penguins_df = penguins_df.dropna()\n",
    "penguins_df[penguins_df[\"flipper_length_mm\"] > 4000]\n",
    "penguins_df[penguins_df[\"flipper_length_mm\"] < 0]\n",
    "\n",
    "# Näytä ne rivit joissa oli jotai kreisejä arvoja.\n",
    "# penguins_df.loc[[9, 14]]\n",
    "\n",
    "penguins_clean = penguins_df.drop([9, 14])\n",
    "penguins_clean.head()"
   ]
  },
  {
   "cell_type": "markdown",
   "id": "ecae71b4",
   "metadata": {
    "papermill": {
     "duration": 0.00354,
     "end_time": "2023-10-31T21:34:40.448464",
     "exception": false,
     "start_time": "2023-10-31T21:34:40.444924",
     "status": "completed"
    },
    "tags": []
   },
   "source": [
    "## Perform preprocessing steps on the dataset to create dummy variables\n"
   ]
  },
  {
   "cell_type": "code",
   "execution_count": 5,
   "id": "77aea4c8",
   "metadata": {
    "execution": {
     "iopub.execute_input": "2023-10-31T21:34:40.457473Z",
     "iopub.status.busy": "2023-10-31T21:34:40.457130Z",
     "iopub.status.idle": "2023-10-31T21:34:40.476284Z",
     "shell.execute_reply": "2023-10-31T21:34:40.475564Z"
    },
    "papermill": {
     "duration": 0.025695,
     "end_time": "2023-10-31T21:34:40.477897",
     "exception": false,
     "start_time": "2023-10-31T21:34:40.452202",
     "status": "completed"
    },
    "tags": []
   },
   "outputs": [
    {
     "data": {
      "text/html": [
       "<div>\n",
       "<style scoped>\n",
       "    .dataframe tbody tr th:only-of-type {\n",
       "        vertical-align: middle;\n",
       "    }\n",
       "\n",
       "    .dataframe tbody tr th {\n",
       "        vertical-align: top;\n",
       "    }\n",
       "\n",
       "    .dataframe thead th {\n",
       "        text-align: right;\n",
       "    }\n",
       "</style>\n",
       "<table border=\"1\" class=\"dataframe\">\n",
       "  <thead>\n",
       "    <tr style=\"text-align: right;\">\n",
       "      <th></th>\n",
       "      <th>culmen_length_mm</th>\n",
       "      <th>culmen_depth_mm</th>\n",
       "      <th>flipper_length_mm</th>\n",
       "      <th>body_mass_g</th>\n",
       "      <th>sex_FEMALE</th>\n",
       "      <th>sex_MALE</th>\n",
       "    </tr>\n",
       "  </thead>\n",
       "  <tbody>\n",
       "    <tr>\n",
       "      <th>0</th>\n",
       "      <td>39.1</td>\n",
       "      <td>18.7</td>\n",
       "      <td>181.0</td>\n",
       "      <td>3750.0</td>\n",
       "      <td>False</td>\n",
       "      <td>True</td>\n",
       "    </tr>\n",
       "    <tr>\n",
       "      <th>1</th>\n",
       "      <td>39.5</td>\n",
       "      <td>17.4</td>\n",
       "      <td>186.0</td>\n",
       "      <td>3800.0</td>\n",
       "      <td>True</td>\n",
       "      <td>False</td>\n",
       "    </tr>\n",
       "    <tr>\n",
       "      <th>2</th>\n",
       "      <td>40.3</td>\n",
       "      <td>18.0</td>\n",
       "      <td>195.0</td>\n",
       "      <td>3250.0</td>\n",
       "      <td>True</td>\n",
       "      <td>False</td>\n",
       "    </tr>\n",
       "    <tr>\n",
       "      <th>4</th>\n",
       "      <td>36.7</td>\n",
       "      <td>19.3</td>\n",
       "      <td>193.0</td>\n",
       "      <td>3450.0</td>\n",
       "      <td>True</td>\n",
       "      <td>False</td>\n",
       "    </tr>\n",
       "    <tr>\n",
       "      <th>5</th>\n",
       "      <td>39.3</td>\n",
       "      <td>20.6</td>\n",
       "      <td>190.0</td>\n",
       "      <td>3650.0</td>\n",
       "      <td>False</td>\n",
       "      <td>True</td>\n",
       "    </tr>\n",
       "  </tbody>\n",
       "</table>\n",
       "</div>"
      ],
      "text/plain": [
       "   culmen_length_mm  culmen_depth_mm  flipper_length_mm  body_mass_g  \\\n",
       "0              39.1             18.7              181.0       3750.0   \n",
       "1              39.5             17.4              186.0       3800.0   \n",
       "2              40.3             18.0              195.0       3250.0   \n",
       "4              36.7             19.3              193.0       3450.0   \n",
       "5              39.3             20.6              190.0       3650.0   \n",
       "\n",
       "   sex_FEMALE  sex_MALE  \n",
       "0       False      True  \n",
       "1        True     False  \n",
       "2        True     False  \n",
       "4        True     False  \n",
       "5       False      True  "
      ]
     },
     "execution_count": 5,
     "metadata": {},
     "output_type": "execute_result"
    }
   ],
   "source": [
    "df = pd.get_dummies(penguins_clean).drop(\"sex_.\", axis=1)\n",
    "df.head()"
   ]
  },
  {
   "cell_type": "markdown",
   "id": "faf81e47",
   "metadata": {
    "papermill": {
     "duration": 0.003652,
     "end_time": "2023-10-31T21:34:40.485604",
     "exception": false,
     "start_time": "2023-10-31T21:34:40.481952",
     "status": "completed"
    },
    "tags": []
   },
   "source": [
    "## Perform preprocessing steps on the dataset - scaling\n"
   ]
  },
  {
   "cell_type": "code",
   "execution_count": 6,
   "id": "9a4633a6",
   "metadata": {
    "execution": {
     "iopub.execute_input": "2023-10-31T21:34:40.495674Z",
     "iopub.status.busy": "2023-10-31T21:34:40.494463Z",
     "iopub.status.idle": "2023-10-31T21:34:40.513424Z",
     "shell.execute_reply": "2023-10-31T21:34:40.512426Z"
    },
    "papermill": {
     "duration": 0.025754,
     "end_time": "2023-10-31T21:34:40.515206",
     "exception": false,
     "start_time": "2023-10-31T21:34:40.489452",
     "status": "completed"
    },
    "tags": []
   },
   "outputs": [
    {
     "data": {
      "text/html": [
       "<div>\n",
       "<style scoped>\n",
       "    .dataframe tbody tr th:only-of-type {\n",
       "        vertical-align: middle;\n",
       "    }\n",
       "\n",
       "    .dataframe tbody tr th {\n",
       "        vertical-align: top;\n",
       "    }\n",
       "\n",
       "    .dataframe thead th {\n",
       "        text-align: right;\n",
       "    }\n",
       "</style>\n",
       "<table border=\"1\" class=\"dataframe\">\n",
       "  <thead>\n",
       "    <tr style=\"text-align: right;\">\n",
       "      <th></th>\n",
       "      <th>culmen_length_mm</th>\n",
       "      <th>culmen_depth_mm</th>\n",
       "      <th>flipper_length_mm</th>\n",
       "      <th>body_mass_g</th>\n",
       "      <th>sex_FEMALE</th>\n",
       "      <th>sex_MALE</th>\n",
       "    </tr>\n",
       "  </thead>\n",
       "  <tbody>\n",
       "    <tr>\n",
       "      <th>0</th>\n",
       "      <td>-0.905520</td>\n",
       "      <td>0.793126</td>\n",
       "      <td>-1.428125</td>\n",
       "      <td>-0.569709</td>\n",
       "      <td>-0.991031</td>\n",
       "      <td>0.997001</td>\n",
       "    </tr>\n",
       "    <tr>\n",
       "      <th>1</th>\n",
       "      <td>-0.831938</td>\n",
       "      <td>0.128503</td>\n",
       "      <td>-1.071522</td>\n",
       "      <td>-0.507579</td>\n",
       "      <td>1.009050</td>\n",
       "      <td>-1.003008</td>\n",
       "    </tr>\n",
       "    <tr>\n",
       "      <th>2</th>\n",
       "      <td>-0.684775</td>\n",
       "      <td>0.435252</td>\n",
       "      <td>-0.429637</td>\n",
       "      <td>-1.191006</td>\n",
       "      <td>1.009050</td>\n",
       "      <td>-1.003008</td>\n",
       "    </tr>\n",
       "    <tr>\n",
       "      <th>3</th>\n",
       "      <td>-1.347011</td>\n",
       "      <td>1.099875</td>\n",
       "      <td>-0.572278</td>\n",
       "      <td>-0.942487</td>\n",
       "      <td>1.009050</td>\n",
       "      <td>-1.003008</td>\n",
       "    </tr>\n",
       "    <tr>\n",
       "      <th>4</th>\n",
       "      <td>-0.868729</td>\n",
       "      <td>1.764498</td>\n",
       "      <td>-0.786240</td>\n",
       "      <td>-0.693968</td>\n",
       "      <td>-0.991031</td>\n",
       "      <td>0.997001</td>\n",
       "    </tr>\n",
       "    <tr>\n",
       "      <th>5</th>\n",
       "      <td>-0.942311</td>\n",
       "      <td>0.333002</td>\n",
       "      <td>-1.428125</td>\n",
       "      <td>-0.725033</td>\n",
       "      <td>1.009050</td>\n",
       "      <td>-1.003008</td>\n",
       "    </tr>\n",
       "    <tr>\n",
       "      <th>6</th>\n",
       "      <td>-0.887125</td>\n",
       "      <td>1.253249</td>\n",
       "      <td>-0.429637</td>\n",
       "      <td>0.579691</td>\n",
       "      <td>-0.991031</td>\n",
       "      <td>0.997001</td>\n",
       "    </tr>\n",
       "    <tr>\n",
       "      <th>7</th>\n",
       "      <td>-0.537611</td>\n",
       "      <td>0.230753</td>\n",
       "      <td>-1.356804</td>\n",
       "      <td>-1.253136</td>\n",
       "      <td>1.009050</td>\n",
       "      <td>-1.003008</td>\n",
       "    </tr>\n",
       "    <tr>\n",
       "      <th>8</th>\n",
       "      <td>-0.997497</td>\n",
       "      <td>2.071247</td>\n",
       "      <td>-0.714919</td>\n",
       "      <td>-0.507579</td>\n",
       "      <td>-0.991031</td>\n",
       "      <td>0.997001</td>\n",
       "    </tr>\n",
       "    <tr>\n",
       "      <th>9</th>\n",
       "      <td>-1.365406</td>\n",
       "      <td>0.333002</td>\n",
       "      <td>-1.142843</td>\n",
       "      <td>-0.631839</td>\n",
       "      <td>1.009050</td>\n",
       "      <td>-1.003008</td>\n",
       "    </tr>\n",
       "  </tbody>\n",
       "</table>\n",
       "</div>"
      ],
      "text/plain": [
       "   culmen_length_mm  culmen_depth_mm  flipper_length_mm  body_mass_g  \\\n",
       "0         -0.905520         0.793126          -1.428125    -0.569709   \n",
       "1         -0.831938         0.128503          -1.071522    -0.507579   \n",
       "2         -0.684775         0.435252          -0.429637    -1.191006   \n",
       "3         -1.347011         1.099875          -0.572278    -0.942487   \n",
       "4         -0.868729         1.764498          -0.786240    -0.693968   \n",
       "5         -0.942311         0.333002          -1.428125    -0.725033   \n",
       "6         -0.887125         1.253249          -0.429637     0.579691   \n",
       "7         -0.537611         0.230753          -1.356804    -1.253136   \n",
       "8         -0.997497         2.071247          -0.714919    -0.507579   \n",
       "9         -1.365406         0.333002          -1.142843    -0.631839   \n",
       "\n",
       "   sex_FEMALE  sex_MALE  \n",
       "0   -0.991031  0.997001  \n",
       "1    1.009050 -1.003008  \n",
       "2    1.009050 -1.003008  \n",
       "3    1.009050 -1.003008  \n",
       "4   -0.991031  0.997001  \n",
       "5    1.009050 -1.003008  \n",
       "6   -0.991031  0.997001  \n",
       "7    1.009050 -1.003008  \n",
       "8   -0.991031  0.997001  \n",
       "9    1.009050 -1.003008  "
      ]
     },
     "execution_count": 6,
     "metadata": {},
     "output_type": "execute_result"
    }
   ],
   "source": [
    "scaler = StandardScaler()\n",
    "X = scaler.fit_transform(df)\n",
    "penguins_preprocessed = pd.DataFrame(data=X, columns=df.columns)\n",
    "penguins_preprocessed.head(10)"
   ]
  },
  {
   "cell_type": "markdown",
   "id": "c8089665",
   "metadata": {
    "papermill": {
     "duration": 0.003797,
     "end_time": "2023-10-31T21:34:40.523885",
     "exception": false,
     "start_time": "2023-10-31T21:34:40.520088",
     "status": "completed"
    },
    "tags": []
   },
   "source": [
    "## PCA version"
   ]
  },
  {
   "cell_type": "code",
   "execution_count": 7,
   "id": "e8d224d7",
   "metadata": {
    "execution": {
     "iopub.execute_input": "2023-10-31T21:34:40.533565Z",
     "iopub.status.busy": "2023-10-31T21:34:40.533224Z",
     "iopub.status.idle": "2023-10-31T21:34:40.558978Z",
     "shell.execute_reply": "2023-10-31T21:34:40.558165Z"
    },
    "papermill": {
     "duration": 0.032819,
     "end_time": "2023-10-31T21:34:40.560783",
     "exception": false,
     "start_time": "2023-10-31T21:34:40.527964",
     "status": "completed"
    },
    "tags": []
   },
   "outputs": [],
   "source": [
    "# pca = PCA(n_components=None)\n",
    "# dfx_pca = pca.fit(penguins_preprocessed)\n",
    "# dfx_pca.explained_variance_ratio_\n",
    "# n_components = sum(dfx_pca.explained_variance_ratio_ > 0.1)\n",
    "# pca = PCA(n_components=n_components)\n",
    "# penguins_PCA = pca.fit_transform(penguins_preprocessed)\n",
    "# print(n_components)\n",
    "\n",
    "\n",
    "\n",
    "## Detect the optimal number of clusters for k-means clustering\n",
    "\n",
    "# inertia = []\n",
    "# for k in range(1, 10):\n",
    "#     kmeans = KMeans(n_clusters=k, random_state=42).fit(penguins_PCA)\n",
    "#     inertia.append(kmeans.inertia_)\n",
    "# plt.plot(range(1, 10), inertia, marker=\"o\")\n",
    "# plt.xlabel(\"Number of clusters\")\n",
    "# plt.ylabel(\"Inertia\")\n",
    "# plt.title(\"Elbow Method\")\n",
    "# plt.show()\n",
    "# n_clusters = 4\n",
    "\n",
    "## Run the k-means clustering algorithm\n",
    "\n",
    "# kmeans = KMeans(n_clusters=n_clusters, random_state=42).fit(penguins_PCA)\n",
    "# plt.scatter(penguins_PCA[:, 0], penguins_PCA[:, 1], c=kmeans.labels_, cmap=\"viridis\")\n",
    "# plt.xlabel(\"First Principal Component\")\n",
    "# plt.ylabel(\"Second Principal Component\")\n",
    "# plt.title(f\"K-means Clustering (K={n_clusters})\")\n",
    "# plt.show()"
   ]
  },
  {
   "cell_type": "markdown",
   "id": "021b2026",
   "metadata": {},
   "source": [
    "## Detect the optimal number of clusters for k-means clustering"
   ]
  },
  {
   "cell_type": "code",
   "execution_count": 8,
   "id": "0cd6e9ad",
   "metadata": {},
   "outputs": [
    {
     "data": {
      "image/png": "[encoded data removed]",
      "text/plain": [
       "<Figure size 800x500 with 1 Axes>"
      ]
     },
     "metadata": {},
     "output_type": "display_data"
    }
   ],
   "source": [
    "# Suoritetaan k-Means eri klusterimäärillä\n",
    "inertias = []\n",
    "K = range(1, 11)  # Testataan klusterimäärät 1-10\n",
    "for k in K:\n",
    "    kmeans = KMeans(n_clusters=k, random_state=42)\n",
    "    kmeans.fit(penguins_preprocessed)\n",
    "    inertias.append(kmeans.inertia_)\n",
    "\n",
    "# Piirretään kyynärpääkaavio\n",
    "plt.figure(figsize=(8, 5))\n",
    "plt.plot(K, inertias, marker='o')\n",
    "plt.xlabel('Number of clusters, k')\n",
    "plt.ylabel('Inertia')\n",
    "plt.title('Elbow Method')\n",
    "plt.show()"
   ]
  },
  {
   "cell_type": "markdown",
   "id": "9122f40e",
   "metadata": {
    "papermill": {
     "duration": 0.004404,
     "end_time": "2023-10-31T21:34:40.973327",
     "exception": false,
     "start_time": "2023-10-31T21:34:40.968923",
     "status": "completed"
    },
    "tags": []
   },
   "source": [
    "## Run the k-means clustering algorithm\n"
   ]
  },
  {
   "cell_type": "code",
   "execution_count": null,
   "id": "6ea82569",
   "metadata": {
    "execution": {
     "iopub.execute_input": "2023-10-31T21:34:40.984203Z",
     "iopub.status.busy": "2023-10-31T21:34:40.983814Z",
     "iopub.status.idle": "2023-10-31T21:34:41.207808Z",
     "shell.execute_reply": "2023-10-31T21:34:41.206641Z"
    },
    "papermill": {
     "duration": 0.232158,
     "end_time": "2023-10-31T21:34:41.209998",
     "exception": false,
     "start_time": "2023-10-31T21:34:40.977840",
     "status": "completed"
    },
    "tags": []
   },
   "outputs": [
    {
     "name": "stdout",
     "output_type": "stream",
     "text": [
      "   culmen_length_mm  culmen_depth_mm  flipper_length_mm  body_mass_g  \\\n",
      "0         -0.905520         0.793126          -1.428125    -0.569709   \n",
      "1         -0.831938         0.128503          -1.071522    -0.507579   \n",
      "2         -0.684775         0.435252          -0.429637    -1.191006   \n",
      "3         -1.347011         1.099875          -0.572278    -0.942487   \n",
      "4         -0.868729         1.764498          -0.786240    -0.693968   \n",
      "\n",
      "   sex_FEMALE  sex_MALE  Cluster  \n",
      "0   -0.991031  0.997001        0  \n",
      "1    1.009050 -1.003008        2  \n",
      "2    1.009050 -1.003008        2  \n",
      "3    1.009050 -1.003008        2  \n",
      "4   -0.991031  0.997001        0  \n",
      "Cluster\n",
      "2    107\n",
      "0    106\n",
      "1     61\n",
      "3     59\n",
      "Name: count, dtype: int64\n"
     ]
    }
   ],
   "source": [
    "# testaa eri arvoilla ja ota kuvia d:D\n",
    "optimal_k = 4  # Esimerkki: vaihda tämä löytämääsi arvoon\n",
    "\n",
    "# Suoritetaan k-Means klusterointi\n",
    "kmeans = KMeans(n_clusters=optimal_k, random_state=42)\n",
    "clusters = kmeans.fit_predict(penguins_preprocessed)\n",
    "\n",
    "# Tallennetaan klusterit datan yhteyteen\n",
    "penguins_preprocessed['Cluster'] = clusters\n",
    "\n",
    "# Tarkastellaan klustereita\n",
    "print(penguins_preprocessed.head())\n",
    "print(penguins_preprocessed['Cluster'].value_counts())"
   ]
  },
  {
   "cell_type": "code",
   "execution_count": 10,
   "id": "79ea149e",
   "metadata": {},
   "outputs": [
    {
     "data": {
      "image/png": "[encoded data removed]",
      "text/plain": [
       "<Figure size 640x480 with 1 Axes>"
      ]
     },
     "metadata": {},
     "output_type": "display_data"
    }
   ],
   "source": [
    "# Esimerkki 2D-visualisoinnista, valitaan kaksi ensimmäistä muuttujaa\n",
    "plt.scatter(penguins_preprocessed.iloc[:, 0], \n",
    "            penguins_preprocessed.iloc[:, 1], \n",
    "            c=clusters, cmap='viridis', marker='o', label='Datapisteet')\n",
    "\n",
    "# Klusterikeskukset (centroids) - piirretään punaisina x-merkkeinä\n",
    "centroids = kmeans.cluster_centers_\n",
    "\n",
    "# Piirretään centroidit (klusterikeskukset) punaisella värillä\n",
    "plt.scatter(centroids[:, 0], centroids[:, 1], c='red', s=200, marker='X', label='Centroidit')\n",
    "\n",
    "plt.title('K-Means Clustering with Centroids')\n",
    "plt.xlabel('Feature 1')\n",
    "plt.ylabel('Feature 2')\n",
    "plt.legend()\n",
    "plt.show()\n"
   ]
  }
 ],
 "metadata": {
  "kernelspec": {
   "display_name": "Python 3",
   "language": "python",
   "name": "python3"
  },
  "language_info": {
   "codemirror_mode": {
    "name": "ipython",
    "version": 3
   },
   "file_extension": ".py",
   "mimetype": "text/x-python",
   "name": "python",
   "nbconvert_exporter": "python",
   "pygments_lexer": "ipython3",
   "version": "3.12.6"
  },
  "papermill": {
   "default_parameters": {},
   "duration": 7.983628,
   "end_time": "2023-10-31T21:34:41.836376",
   "environment_variables": {},
   "exception": null,
   "input_path": "__notebook__.ipynb",
   "output_path": "__notebook__.ipynb",
   "parameters": {},
   "start_time": "2023-10-31T21:34:33.852748",
   "version": "2.4.0"
  }
 },
 "nbformat": 4,
 "nbformat_minor": 5
}
