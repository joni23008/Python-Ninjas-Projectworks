{
 "cells": [
  {
   "cell_type": "code",
   "execution_count": 1,
   "id": "9d38752e",
   "metadata": {
    "execution": {
     "iopub.execute_input": "2024-08-22T14:46:14.641920Z",
     "iopub.status.busy": "2024-08-22T14:46:14.641510Z",
     "iopub.status.idle": "2024-08-22T14:46:17.205110Z",
     "shell.execute_reply": "2024-08-22T14:46:17.203797Z"
    },
    "papermill": {
     "duration": 2.576616,
     "end_time": "2024-08-22T14:46:17.208063",
     "exception": false,
     "start_time": "2024-08-22T14:46:14.631447",
     "status": "completed"
    },
    "tags": []
   },
   "outputs": [],
   "source": [
    "import pandas as pd \n",
    "import numpy as np\n",
    "import seaborn as sns\n",
    "import matplotlib.pyplot as plt\n",
    "\n",
    "from sklearn.neighbors import KNeighborsClassifier\n",
    "from sklearn.metrics import accuracy_score\n",
    "from sklearn.preprocessing import StandardScaler\n",
    "from sklearn.model_selection import train_test_split\n",
    "from sklearn.neighbors import KNeighborsClassifier\n",
    "from sklearn.model_selection import cross_val_score, KFold\n"
   ]
  },
  {
   "cell_type": "markdown",
   "id": "2f301902",
   "metadata": {
    "papermill": {
     "duration": 0.00733,
     "end_time": "2024-08-22T14:46:17.223182",
     "exception": false,
     "start_time": "2024-08-22T14:46:17.215852",
     "status": "completed"
    },
    "tags": []
   },
   "source": [
    "## Import Data"
   ]
  },
  {
   "cell_type": "code",
   "execution_count": 2,
   "id": "01479f2c",
   "metadata": {
    "execution": {
     "iopub.execute_input": "2024-08-22T14:46:17.241410Z",
     "iopub.status.busy": "2024-08-22T14:46:17.240815Z",
     "iopub.status.idle": "2024-08-22T14:46:17.269699Z",
     "shell.execute_reply": "2024-08-22T14:46:17.268478Z"
    },
    "papermill": {
     "duration": 0.041332,
     "end_time": "2024-08-22T14:46:17.272542",
     "exception": false,
     "start_time": "2024-08-22T14:46:17.231210",
     "status": "completed"
    },
    "tags": []
   },
   "outputs": [],
   "source": [
    "fakebills = pd.read_csv('../archive/fake_bills.csv',sep=';')"
   ]
  },
  {
   "cell_type": "markdown",
   "id": "3a9cf513",
   "metadata": {
    "papermill": {
     "duration": 0.007731,
     "end_time": "2024-08-22T14:46:17.336263",
     "exception": false,
     "start_time": "2024-08-22T14:46:17.328532",
     "status": "completed"
    },
    "tags": []
   },
   "source": [
    "## Explore Data  "
   ]
  },
  {
   "cell_type": "code",
   "execution_count": 3,
   "id": "1f7de92d",
   "metadata": {
    "execution": {
     "iopub.execute_input": "2024-08-22T14:46:17.353940Z",
     "iopub.status.busy": "2024-08-22T14:46:17.353510Z",
     "iopub.status.idle": "2024-08-22T14:46:17.378614Z",
     "shell.execute_reply": "2024-08-22T14:46:17.377553Z"
    },
    "papermill": {
     "duration": 0.037792,
     "end_time": "2024-08-22T14:46:17.381961",
     "exception": false,
     "start_time": "2024-08-22T14:46:17.344169",
     "status": "completed"
    },
    "tags": []
   },
   "outputs": [
    {
     "data": {
      "text/plain": [
       "is_genuine         bool\n",
       "diagonal        float64\n",
       "height_left     float64\n",
       "height_right    float64\n",
       "margin_low      float64\n",
       "margin_up       float64\n",
       "length          float64\n",
       "dtype: object"
      ]
     },
     "execution_count": 3,
     "metadata": {},
     "output_type": "execute_result"
    }
   ],
   "source": [
    "# fakebills\n",
    "# fakebills.shape\n",
    "# fakebills.head(n=10)\n",
    "# fakebills.tail(n=10)\n",
    "# fakebills.describe\n",
    "# fakebills.columns\n",
    "# fakebills.isnull().sum()\n",
    "fakebills.dtypes"
   ]
  },
  {
   "cell_type": "code",
   "execution_count": 4,
   "id": "ffb9b12f",
   "metadata": {},
   "outputs": [
    {
     "data": {
      "text/plain": [
       "is_genuine       0\n",
       "diagonal         0\n",
       "height_left      0\n",
       "height_right     0\n",
       "margin_low      37\n",
       "margin_up        0\n",
       "length           0\n",
       "dtype: int64"
      ]
     },
     "execution_count": 4,
     "metadata": {},
     "output_type": "execute_result"
    }
   ],
   "source": [
    "fakebills.isnull().sum()"
   ]
  },
  {
   "cell_type": "code",
   "execution_count": 5,
   "id": "3989a3f1",
   "metadata": {
    "execution": {
     "iopub.execute_input": "2024-08-22T14:46:17.488417Z",
     "iopub.status.busy": "2024-08-22T14:46:17.488014Z",
     "iopub.status.idle": "2024-08-22T14:46:17.497246Z",
     "shell.execute_reply": "2024-08-22T14:46:17.496009Z"
    },
    "papermill": {
     "duration": 0.022317,
     "end_time": "2024-08-22T14:46:17.500180",
     "exception": false,
     "start_time": "2024-08-22T14:46:17.477863",
     "status": "completed"
    },
    "tags": []
   },
   "outputs": [],
   "source": [
    "fakebills.dropna(inplace=True)"
   ]
  },
  {
   "cell_type": "code",
   "execution_count": 6,
   "id": "76f92f42",
   "metadata": {
    "execution": {
     "iopub.execute_input": "2024-08-22T14:46:17.520085Z",
     "iopub.status.busy": "2024-08-22T14:46:17.519674Z",
     "iopub.status.idle": "2024-08-22T14:46:17.529196Z",
     "shell.execute_reply": "2024-08-22T14:46:17.527831Z"
    },
    "papermill": {
     "duration": 0.022719,
     "end_time": "2024-08-22T14:46:17.531886",
     "exception": false,
     "start_time": "2024-08-22T14:46:17.509167",
     "status": "completed"
    },
    "tags": []
   },
   "outputs": [
    {
     "data": {
      "text/plain": [
       "is_genuine      0\n",
       "diagonal        0\n",
       "height_left     0\n",
       "height_right    0\n",
       "margin_low      0\n",
       "margin_up       0\n",
       "length          0\n",
       "dtype: int64"
      ]
     },
     "execution_count": 6,
     "metadata": {},
     "output_type": "execute_result"
    }
   ],
   "source": [
    "fakebills.isnull().sum()"
   ]
  },
  {
   "cell_type": "code",
   "execution_count": 7,
   "id": "3fc5a5ee",
   "metadata": {
    "execution": {
     "iopub.execute_input": "2024-08-22T14:46:17.552082Z",
     "iopub.status.busy": "2024-08-22T14:46:17.551614Z",
     "iopub.status.idle": "2024-08-22T14:46:17.825692Z",
     "shell.execute_reply": "2024-08-22T14:46:17.824503Z"
    },
    "papermill": {
     "duration": 0.287292,
     "end_time": "2024-08-22T14:46:17.828321",
     "exception": false,
     "start_time": "2024-08-22T14:46:17.541029",
     "status": "completed"
    },
    "tags": []
   },
   "outputs": [
    {
     "name": "stderr",
     "output_type": "stream",
     "text": [
      "C:\\Users\\jonim\\AppData\\Local\\Temp\\ipykernel_4864\\955250819.py:1: FutureWarning: \n",
      "\n",
      "Passing `palette` without assigning `hue` is deprecated and will be removed in v0.14.0. Assign the `x` variable to `hue` and set `legend=False` for the same effect.\n",
      "\n",
      "  sns.countplot(x='is_genuine',data=fakebills,palette='coolwarm')\n"
     ]
    },
    {
     "data": {
      "text/plain": [
       "<Axes: xlabel='is_genuine', ylabel='count'>"
      ]
     },
     "execution_count": 7,
     "metadata": {},
     "output_type": "execute_result"
    },
    {
     "data": {
      "image/png": "[encoded data removed]",
      "text/plain": [
       "<Figure size 640x480 with 1 Axes>"
      ]
     },
     "metadata": {},
     "output_type": "display_data"
    }
   ],
   "source": [
    "sns.countplot(x='is_genuine',data=fakebills,palette='coolwarm')"
   ]
  },
  {
   "cell_type": "markdown",
   "id": "96647d65",
   "metadata": {
    "papermill": {
     "duration": 0.009359,
     "end_time": "2024-08-22T14:46:17.847365",
     "exception": false,
     "start_time": "2024-08-22T14:46:17.838006",
     "status": "completed"
    },
    "tags": []
   },
   "source": [
    "## Standardize Variables"
   ]
  },
  {
   "cell_type": "code",
   "execution_count": 8,
   "id": "cb1efbd4",
   "metadata": {
    "execution": {
     "iopub.execute_input": "2024-08-22T14:46:18.169749Z",
     "iopub.status.busy": "2024-08-22T14:46:18.169254Z",
     "iopub.status.idle": "2024-08-22T14:46:18.174730Z",
     "shell.execute_reply": "2024-08-22T14:46:18.173455Z"
    },
    "papermill": {
     "duration": 0.019215,
     "end_time": "2024-08-22T14:46:18.177278",
     "exception": false,
     "start_time": "2024-08-22T14:46:18.158063",
     "status": "completed"
    },
    "tags": []
   },
   "outputs": [],
   "source": [
    "scaler = StandardScaler()"
   ]
  },
  {
   "cell_type": "code",
   "execution_count": 9,
   "id": "dbb576ba",
   "metadata": {
    "execution": {
     "iopub.execute_input": "2024-08-22T14:46:18.199108Z",
     "iopub.status.busy": "2024-08-22T14:46:18.198708Z",
     "iopub.status.idle": "2024-08-22T14:46:18.212949Z",
     "shell.execute_reply": "2024-08-22T14:46:18.211735Z"
    },
    "papermill": {
     "duration": 0.028434,
     "end_time": "2024-08-22T14:46:18.215615",
     "exception": false,
     "start_time": "2024-08-22T14:46:18.187181",
     "status": "completed"
    },
    "tags": []
   },
   "outputs": [
    {
     "data": {
      "text/html": [
       "<style>#sk-container-id-1 {\n",
       "  /* Definition of color scheme common for light and dark mode */\n",
       "  --sklearn-color-text: black;\n",
       "  --sklearn-color-line: gray;\n",
       "  /* Definition of color scheme for unfitted estimators */\n",
       "  --sklearn-color-unfitted-level-0: #fff5e6;\n",
       "  --sklearn-color-unfitted-level-1: #f6e4d2;\n",
       "  --sklearn-color-unfitted-level-2: #ffe0b3;\n",
       "  --sklearn-color-unfitted-level-3: chocolate;\n",
       "  /* Definition of color scheme for fitted estimators */\n",
       "  --sklearn-color-fitted-level-0: #f0f8ff;\n",
       "  --sklearn-color-fitted-level-1: #d4ebff;\n",
       "  --sklearn-color-fitted-level-2: #b3dbfd;\n",
       "  --sklearn-color-fitted-level-3: cornflowerblue;\n",
       "\n",
       "  /* Specific color for light theme */\n",
       "  --sklearn-color-text-on-default-background: var(--sg-text-color, var(--theme-code-foreground, var(--jp-content-font-color1, black)));\n",
       "  --sklearn-color-background: var(--sg-background-color, var(--theme-background, var(--jp-layout-color0, white)));\n",
       "  --sklearn-color-border-box: var(--sg-text-color, var(--theme-code-foreground, var(--jp-content-font-color1, black)));\n",
       "  --sklearn-color-icon: #696969;\n",
       "\n",
       "  @media (prefers-color-scheme: dark) {\n",
       "    /* Redefinition of color scheme for dark theme */\n",
       "    --sklearn-color-text-on-default-background: var(--sg-text-color, var(--theme-code-foreground, var(--jp-content-font-color1, white)));\n",
       "    --sklearn-color-background: var(--sg-background-color, var(--theme-background, var(--jp-layout-color0, #111)));\n",
       "    --sklearn-color-border-box: var(--sg-text-color, var(--theme-code-foreground, var(--jp-content-font-color1, white)));\n",
       "    --sklearn-color-icon: #878787;\n",
       "  }\n",
       "}\n",
       "\n",
       "#sk-container-id-1 {\n",
       "  color: var(--sklearn-color-text);\n",
       "}\n",
       "\n",
       "#sk-container-id-1 pre {\n",
       "  padding: 0;\n",
       "}\n",
       "\n",
       "#sk-container-id-1 input.sk-hidden--visually {\n",
       "  border: 0;\n",
       "  clip: rect(1px 1px 1px 1px);\n",
       "  clip: rect(1px, 1px, 1px, 1px);\n",
       "  height: 1px;\n",
       "  margin: -1px;\n",
       "  overflow: hidden;\n",
       "  padding: 0;\n",
       "  position: absolute;\n",
       "  width: 1px;\n",
       "}\n",
       "\n",
       "#sk-container-id-1 div.sk-dashed-wrapped {\n",
       "  border: 1px dashed var(--sklearn-color-line);\n",
       "  margin: 0 0.4em 0.5em 0.4em;\n",
       "  box-sizing: border-box;\n",
       "  padding-bottom: 0.4em;\n",
       "  background-color: var(--sklearn-color-background);\n",
       "}\n",
       "\n",
       "#sk-container-id-1 div.sk-container {\n",
       "  /* jupyter's `normalize.less` sets `[hidden] { display: none; }`\n",
       "     but bootstrap.min.css set `[hidden] { display: none !important; }`\n",
       "     so we also need the `!important` here to be able to override the\n",
       "     default hidden behavior on the sphinx rendered scikit-learn.org.\n",
       "     See: https://github.com/scikit-learn/scikit-learn/issues/21755 */\n",
       "  display: inline-block !important;\n",
       "  position: relative;\n",
       "}\n",
       "\n",
       "#sk-container-id-1 div.sk-text-repr-fallback {\n",
       "  display: none;\n",
       "}\n",
       "\n",
       "div.sk-parallel-item,\n",
       "div.sk-serial,\n",
       "div.sk-item {\n",
       "  /* draw centered vertical line to link estimators */\n",
       "  background-image: linear-gradient(var(--sklearn-color-text-on-default-background), var(--sklearn-color-text-on-default-background));\n",
       "  background-size: 2px 100%;\n",
       "  background-repeat: no-repeat;\n",
       "  background-position: center center;\n",
       "}\n",
       "\n",
       "/* Parallel-specific style estimator block */\n",
       "\n",
       "#sk-container-id-1 div.sk-parallel-item::after {\n",
       "  content: \"\";\n",
       "  width: 100%;\n",
       "  border-bottom: 2px solid var(--sklearn-color-text-on-default-background);\n",
       "  flex-grow: 1;\n",
       "}\n",
       "\n",
       "#sk-container-id-1 div.sk-parallel {\n",
       "  display: flex;\n",
       "  align-items: stretch;\n",
       "  justify-content: center;\n",
       "  background-color: var(--sklearn-color-background);\n",
       "  position: relative;\n",
       "}\n",
       "\n",
       "#sk-container-id-1 div.sk-parallel-item {\n",
       "  display: flex;\n",
       "  flex-direction: column;\n",
       "}\n",
       "\n",
       "#sk-container-id-1 div.sk-parallel-item:first-child::after {\n",
       "  align-self: flex-end;\n",
       "  width: 50%;\n",
       "}\n",
       "\n",
       "#sk-container-id-1 div.sk-parallel-item:last-child::after {\n",
       "  align-self: flex-start;\n",
       "  width: 50%;\n",
       "}\n",
       "\n",
       "#sk-container-id-1 div.sk-parallel-item:only-child::after {\n",
       "  width: 0;\n",
       "}\n",
       "\n",
       "/* Serial-specific style estimator block */\n",
       "\n",
       "#sk-container-id-1 div.sk-serial {\n",
       "  display: flex;\n",
       "  flex-direction: column;\n",
       "  align-items: center;\n",
       "  background-color: var(--sklearn-color-background);\n",
       "  padding-right: 1em;\n",
       "  padding-left: 1em;\n",
       "}\n",
       "\n",
       "\n",
       "/* Toggleable style: style used for estimator/Pipeline/ColumnTransformer box that is\n",
       "clickable and can be expanded/collapsed.\n",
       "- Pipeline and ColumnTransformer use this feature and define the default style\n",
       "- Estimators will overwrite some part of the style using the `sk-estimator` class\n",
       "*/\n",
       "\n",
       "/* Pipeline and ColumnTransformer style (default) */\n",
       "\n",
       "#sk-container-id-1 div.sk-toggleable {\n",
       "  /* Default theme specific background. It is overwritten whether we have a\n",
       "  specific estimator or a Pipeline/ColumnTransformer */\n",
       "  background-color: var(--sklearn-color-background);\n",
       "}\n",
       "\n",
       "/* Toggleable label */\n",
       "#sk-container-id-1 label.sk-toggleable__label {\n",
       "  cursor: pointer;\n",
       "  display: block;\n",
       "  width: 100%;\n",
       "  margin-bottom: 0;\n",
       "  padding: 0.5em;\n",
       "  box-sizing: border-box;\n",
       "  text-align: center;\n",
       "}\n",
       "\n",
       "#sk-container-id-1 label.sk-toggleable__label-arrow:before {\n",
       "  /* Arrow on the left of the label */\n",
       "  content: \"▸\";\n",
       "  float: left;\n",
       "  margin-right: 0.25em;\n",
       "  color: var(--sklearn-color-icon);\n",
       "}\n",
       "\n",
       "#sk-container-id-1 label.sk-toggleable__label-arrow:hover:before {\n",
       "  color: var(--sklearn-color-text);\n",
       "}\n",
       "\n",
       "/* Toggleable content - dropdown */\n",
       "\n",
       "#sk-container-id-1 div.sk-toggleable__content {\n",
       "  max-height: 0;\n",
       "  max-width: 0;\n",
       "  overflow: hidden;\n",
       "  text-align: left;\n",
       "  /* unfitted */\n",
       "  background-color: var(--sklearn-color-unfitted-level-0);\n",
       "}\n",
       "\n",
       "#sk-container-id-1 div.sk-toggleable__content.fitted {\n",
       "  /* fitted */\n",
       "  background-color: var(--sklearn-color-fitted-level-0);\n",
       "}\n",
       "\n",
       "#sk-container-id-1 div.sk-toggleable__content pre {\n",
       "  margin: 0.2em;\n",
       "  border-radius: 0.25em;\n",
       "  color: var(--sklearn-color-text);\n",
       "  /* unfitted */\n",
       "  background-color: var(--sklearn-color-unfitted-level-0);\n",
       "}\n",
       "\n",
       "#sk-container-id-1 div.sk-toggleable__content.fitted pre {\n",
       "  /* unfitted */\n",
       "  background-color: var(--sklearn-color-fitted-level-0);\n",
       "}\n",
       "\n",
       "#sk-container-id-1 input.sk-toggleable__control:checked~div.sk-toggleable__content {\n",
       "  /* Expand drop-down */\n",
       "  max-height: 200px;\n",
       "  max-width: 100%;\n",
       "  overflow: auto;\n",
       "}\n",
       "\n",
       "#sk-container-id-1 input.sk-toggleable__control:checked~label.sk-toggleable__label-arrow:before {\n",
       "  content: \"▾\";\n",
       "}\n",
       "\n",
       "/* Pipeline/ColumnTransformer-specific style */\n",
       "\n",
       "#sk-container-id-1 div.sk-label input.sk-toggleable__control:checked~label.sk-toggleable__label {\n",
       "  color: var(--sklearn-color-text);\n",
       "  background-color: var(--sklearn-color-unfitted-level-2);\n",
       "}\n",
       "\n",
       "#sk-container-id-1 div.sk-label.fitted input.sk-toggleable__control:checked~label.sk-toggleable__label {\n",
       "  background-color: var(--sklearn-color-fitted-level-2);\n",
       "}\n",
       "\n",
       "/* Estimator-specific style */\n",
       "\n",
       "/* Colorize estimator box */\n",
       "#sk-container-id-1 div.sk-estimator input.sk-toggleable__control:checked~label.sk-toggleable__label {\n",
       "  /* unfitted */\n",
       "  background-color: var(--sklearn-color-unfitted-level-2);\n",
       "}\n",
       "\n",
       "#sk-container-id-1 div.sk-estimator.fitted input.sk-toggleable__control:checked~label.sk-toggleable__label {\n",
       "  /* fitted */\n",
       "  background-color: var(--sklearn-color-fitted-level-2);\n",
       "}\n",
       "\n",
       "#sk-container-id-1 div.sk-label label.sk-toggleable__label,\n",
       "#sk-container-id-1 div.sk-label label {\n",
       "  /* The background is the default theme color */\n",
       "  color: var(--sklearn-color-text-on-default-background);\n",
       "}\n",
       "\n",
       "/* On hover, darken the color of the background */\n",
       "#sk-container-id-1 div.sk-label:hover label.sk-toggleable__label {\n",
       "  color: var(--sklearn-color-text);\n",
       "  background-color: var(--sklearn-color-unfitted-level-2);\n",
       "}\n",
       "\n",
       "/* Label box, darken color on hover, fitted */\n",
       "#sk-container-id-1 div.sk-label.fitted:hover label.sk-toggleable__label.fitted {\n",
       "  color: var(--sklearn-color-text);\n",
       "  background-color: var(--sklearn-color-fitted-level-2);\n",
       "}\n",
       "\n",
       "/* Estimator label */\n",
       "\n",
       "#sk-container-id-1 div.sk-label label {\n",
       "  font-family: monospace;\n",
       "  font-weight: bold;\n",
       "  display: inline-block;\n",
       "  line-height: 1.2em;\n",
       "}\n",
       "\n",
       "#sk-container-id-1 div.sk-label-container {\n",
       "  text-align: center;\n",
       "}\n",
       "\n",
       "/* Estimator-specific */\n",
       "#sk-container-id-1 div.sk-estimator {\n",
       "  font-family: monospace;\n",
       "  border: 1px dotted var(--sklearn-color-border-box);\n",
       "  border-radius: 0.25em;\n",
       "  box-sizing: border-box;\n",
       "  margin-bottom: 0.5em;\n",
       "  /* unfitted */\n",
       "  background-color: var(--sklearn-color-unfitted-level-0);\n",
       "}\n",
       "\n",
       "#sk-container-id-1 div.sk-estimator.fitted {\n",
       "  /* fitted */\n",
       "  background-color: var(--sklearn-color-fitted-level-0);\n",
       "}\n",
       "\n",
       "/* on hover */\n",
       "#sk-container-id-1 div.sk-estimator:hover {\n",
       "  /* unfitted */\n",
       "  background-color: var(--sklearn-color-unfitted-level-2);\n",
       "}\n",
       "\n",
       "#sk-container-id-1 div.sk-estimator.fitted:hover {\n",
       "  /* fitted */\n",
       "  background-color: var(--sklearn-color-fitted-level-2);\n",
       "}\n",
       "\n",
       "/* Specification for estimator info (e.g. \"i\" and \"?\") */\n",
       "\n",
       "/* Common style for \"i\" and \"?\" */\n",
       "\n",
       ".sk-estimator-doc-link,\n",
       "a:link.sk-estimator-doc-link,\n",
       "a:visited.sk-estimator-doc-link {\n",
       "  float: right;\n",
       "  font-size: smaller;\n",
       "  line-height: 1em;\n",
       "  font-family: monospace;\n",
       "  background-color: var(--sklearn-color-background);\n",
       "  border-radius: 1em;\n",
       "  height: 1em;\n",
       "  width: 1em;\n",
       "  text-decoration: none !important;\n",
       "  margin-left: 1ex;\n",
       "  /* unfitted */\n",
       "  border: var(--sklearn-color-unfitted-level-1) 1pt solid;\n",
       "  color: var(--sklearn-color-unfitted-level-1);\n",
       "}\n",
       "\n",
       ".sk-estimator-doc-link.fitted,\n",
       "a:link.sk-estimator-doc-link.fitted,\n",
       "a:visited.sk-estimator-doc-link.fitted {\n",
       "  /* fitted */\n",
       "  border: var(--sklearn-color-fitted-level-1) 1pt solid;\n",
       "  color: var(--sklearn-color-fitted-level-1);\n",
       "}\n",
       "\n",
       "/* On hover */\n",
       "div.sk-estimator:hover .sk-estimator-doc-link:hover,\n",
       ".sk-estimator-doc-link:hover,\n",
       "div.sk-label-container:hover .sk-estimator-doc-link:hover,\n",
       ".sk-estimator-doc-link:hover {\n",
       "  /* unfitted */\n",
       "  background-color: var(--sklearn-color-unfitted-level-3);\n",
       "  color: var(--sklearn-color-background);\n",
       "  text-decoration: none;\n",
       "}\n",
       "\n",
       "div.sk-estimator.fitted:hover .sk-estimator-doc-link.fitted:hover,\n",
       ".sk-estimator-doc-link.fitted:hover,\n",
       "div.sk-label-container:hover .sk-estimator-doc-link.fitted:hover,\n",
       ".sk-estimator-doc-link.fitted:hover {\n",
       "  /* fitted */\n",
       "  background-color: var(--sklearn-color-fitted-level-3);\n",
       "  color: var(--sklearn-color-background);\n",
       "  text-decoration: none;\n",
       "}\n",
       "\n",
       "/* Span, style for the box shown on hovering the info icon */\n",
       ".sk-estimator-doc-link span {\n",
       "  display: none;\n",
       "  z-index: 9999;\n",
       "  position: relative;\n",
       "  font-weight: normal;\n",
       "  right: .2ex;\n",
       "  padding: .5ex;\n",
       "  margin: .5ex;\n",
       "  width: min-content;\n",
       "  min-width: 20ex;\n",
       "  max-width: 50ex;\n",
       "  color: var(--sklearn-color-text);\n",
       "  box-shadow: 2pt 2pt 4pt #999;\n",
       "  /* unfitted */\n",
       "  background: var(--sklearn-color-unfitted-level-0);\n",
       "  border: .5pt solid var(--sklearn-color-unfitted-level-3);\n",
       "}\n",
       "\n",
       ".sk-estimator-doc-link.fitted span {\n",
       "  /* fitted */\n",
       "  background: var(--sklearn-color-fitted-level-0);\n",
       "  border: var(--sklearn-color-fitted-level-3);\n",
       "}\n",
       "\n",
       ".sk-estimator-doc-link:hover span {\n",
       "  display: block;\n",
       "}\n",
       "\n",
       "/* \"?\"-specific style due to the `<a>` HTML tag */\n",
       "\n",
       "#sk-container-id-1 a.estimator_doc_link {\n",
       "  float: right;\n",
       "  font-size: 1rem;\n",
       "  line-height: 1em;\n",
       "  font-family: monospace;\n",
       "  background-color: var(--sklearn-color-background);\n",
       "  border-radius: 1rem;\n",
       "  height: 1rem;\n",
       "  width: 1rem;\n",
       "  text-decoration: none;\n",
       "  /* unfitted */\n",
       "  color: var(--sklearn-color-unfitted-level-1);\n",
       "  border: var(--sklearn-color-unfitted-level-1) 1pt solid;\n",
       "}\n",
       "\n",
       "#sk-container-id-1 a.estimator_doc_link.fitted {\n",
       "  /* fitted */\n",
       "  border: var(--sklearn-color-fitted-level-1) 1pt solid;\n",
       "  color: var(--sklearn-color-fitted-level-1);\n",
       "}\n",
       "\n",
       "/* On hover */\n",
       "#sk-container-id-1 a.estimator_doc_link:hover {\n",
       "  /* unfitted */\n",
       "  background-color: var(--sklearn-color-unfitted-level-3);\n",
       "  color: var(--sklearn-color-background);\n",
       "  text-decoration: none;\n",
       "}\n",
       "\n",
       "#sk-container-id-1 a.estimator_doc_link.fitted:hover {\n",
       "  /* fitted */\n",
       "  background-color: var(--sklearn-color-fitted-level-3);\n",
       "}\n",
       "</style><div id=\"sk-container-id-1\" class=\"sk-top-container\"><div class=\"sk-text-repr-fallback\"><pre>StandardScaler()</pre><b>In a Jupyter environment, please rerun this cell to show the HTML representation or trust the notebook. <br />On GitHub, the HTML representation is unable to render, please try loading this page with nbviewer.org.</b></div><div class=\"sk-container\" hidden><div class=\"sk-item\"><div class=\"sk-estimator fitted sk-toggleable\"><input class=\"sk-toggleable__control sk-hidden--visually\" id=\"sk-estimator-id-1\" type=\"checkbox\" checked><label for=\"sk-estimator-id-1\" class=\"sk-toggleable__label fitted sk-toggleable__label-arrow fitted\">&nbsp;&nbsp;StandardScaler<a class=\"sk-estimator-doc-link fitted\" rel=\"noreferrer\" target=\"_blank\" href=\"https://scikit-learn.org/1.5/modules/generated/sklearn.preprocessing.StandardScaler.html\">?<span>Documentation for StandardScaler</span></a><span class=\"sk-estimator-doc-link fitted\">i<span>Fitted</span></span></label><div class=\"sk-toggleable__content fitted\"><pre>StandardScaler()</pre></div> </div></div></div></div>"
      ],
      "text/plain": [
       "StandardScaler()"
      ]
     },
     "execution_count": 9,
     "metadata": {},
     "output_type": "execute_result"
    }
   ],
   "source": [
    "scaler.fit(fakebills.drop('is_genuine',axis=1))"
   ]
  },
  {
   "cell_type": "code",
   "execution_count": 10,
   "id": "cbdcdbcc",
   "metadata": {
    "execution": {
     "iopub.execute_input": "2024-08-22T14:46:18.237912Z",
     "iopub.status.busy": "2024-08-22T14:46:18.237433Z",
     "iopub.status.idle": "2024-08-22T14:46:18.245785Z",
     "shell.execute_reply": "2024-08-22T14:46:18.244555Z"
    },
    "papermill": {
     "duration": 0.022443,
     "end_time": "2024-08-22T14:46:18.248293",
     "exception": false,
     "start_time": "2024-08-22T14:46:18.225850",
     "status": "completed"
    },
    "tags": []
   },
   "outputs": [],
   "source": [
    "scaled = scaler.transform(fakebills.drop('is_genuine',axis=1))"
   ]
  },
  {
   "cell_type": "markdown",
   "id": "54ea62e8",
   "metadata": {
    "papermill": {
     "duration": 0.010006,
     "end_time": "2024-08-22T14:46:18.268570",
     "exception": false,
     "start_time": "2024-08-22T14:46:18.258564",
     "status": "completed"
    },
    "tags": []
   },
   "source": [
    "## Split Data"
   ]
  },
  {
   "cell_type": "code",
   "execution_count": 11,
   "id": "dde2198c",
   "metadata": {
    "execution": {
     "iopub.execute_input": "2024-08-22T14:46:18.433425Z",
     "iopub.status.busy": "2024-08-22T14:46:18.433017Z",
     "iopub.status.idle": "2024-08-22T14:46:18.441912Z",
     "shell.execute_reply": "2024-08-22T14:46:18.440779Z"
    },
    "papermill": {
     "duration": 0.023293,
     "end_time": "2024-08-22T14:46:18.444589",
     "exception": false,
     "start_time": "2024-08-22T14:46:18.421296",
     "status": "completed"
    },
    "tags": []
   },
   "outputs": [],
   "source": [
    "X_train, X_test, y_train, y_test = train_test_split(scaled,fakebills['is_genuine'],\n",
    "                                                    test_size=0.2, shuffle = True, random_state = 0)"
   ]
  },
  {
   "cell_type": "markdown",
   "id": "a5dbf00b",
   "metadata": {
    "papermill": {
     "duration": 0.011421,
     "end_time": "2024-08-22T14:46:20.563036",
     "exception": false,
     "start_time": "2024-08-22T14:46:20.551615",
     "status": "completed"
    },
    "tags": []
   },
   "source": [
    "## Build KNN Model"
   ]
  },
  {
   "cell_type": "code",
   "execution_count": 12,
   "id": "8e62234e",
   "metadata": {
    "execution": {
     "iopub.execute_input": "2024-08-22T14:46:20.589496Z",
     "iopub.status.busy": "2024-08-22T14:46:20.588361Z",
     "iopub.status.idle": "2024-08-22T14:46:20.638808Z",
     "shell.execute_reply": "2024-08-22T14:46:20.637410Z"
    },
    "papermill": {
     "duration": 0.067045,
     "end_time": "2024-08-22T14:46:20.642424",
     "exception": false,
     "start_time": "2024-08-22T14:46:20.575379",
     "status": "completed"
    },
    "tags": []
   },
   "outputs": [
    {
     "name": "stdout",
     "output_type": "stream",
     "text": [
      "[False  True  True False  True  True False  True  True  True  True  True\n",
      "  True False False  True  True False  True False  True  True  True  True\n",
      "  True  True False  True  True  True False  True  True False  True  True\n",
      " False False  True  True  True  True  True False  True  True False  True\n",
      "  True  True  True  True  True  True False  True False False False  True\n",
      "  True  True  True  True  True False False False False  True False  True\n",
      "  True False  True False  True False False False  True  True  True  True\n",
      "  True False False False  True  True False  True  True False False  True\n",
      " False  True False  True  True  True False  True False  True  True False\n",
      "  True  True  True  True  True False  True  True  True False False False\n",
      "  True False  True False  True False  True  True False  True False  True\n",
      "  True  True  True  True  True False  True  True False  True  True False\n",
      "  True  True  True  True  True False False False False False  True False\n",
      "  True False  True False  True False  True False  True False  True False\n",
      " False  True  True  True  True  True  True False  True  True  True  True\n",
      " False  True  True  True  True  True  True  True False  True  True  True\n",
      " False  True  True False False False False False  True  True  True False\n",
      " False False  True  True False  True  True  True False False False  True\n",
      " False False  True  True False  True  True False  True False  True  True\n",
      "  True  True False  True  True  True False  True  True  True  True  True\n",
      "  True  True False False False  True  True  True  True  True False False\n",
      "  True False  True  True  True  True  True  True  True  True  True  True\n",
      "  True  True  True False False False  True  True  True False False  True\n",
      "  True  True  True  True False False  True False False  True  True False\n",
      " False False  True  True False]\n"
     ]
    }
   ],
   "source": [
    "K=5\n",
    "knn = KNeighborsClassifier(K)\n",
    "knn.fit(X_train,y_train)\n",
    "y_pred = knn.predict(X_test)\n",
    "print(y_pred)"
   ]
  },
  {
   "cell_type": "markdown",
   "id": "8eaed01c",
   "metadata": {
    "papermill": {
     "duration": 0.011251,
     "end_time": "2024-08-22T14:46:20.669303",
     "exception": false,
     "start_time": "2024-08-22T14:46:20.658052",
     "status": "completed"
    },
    "tags": []
   },
   "source": [
    "## Evaluate Model"
   ]
  },
  {
   "cell_type": "code",
   "execution_count": 13,
   "id": "adf8fbea",
   "metadata": {},
   "outputs": [
    {
     "data": {
      "text/plain": [
       "0.9863481228668942"
      ]
     },
     "execution_count": 13,
     "metadata": {},
     "output_type": "execute_result"
    }
   ],
   "source": [
    "accuracy_score(y_test, y_pred)"
   ]
  },
  {
   "cell_type": "markdown",
   "id": "198459b1",
   "metadata": {},
   "source": [
    "## Test in loop with K value changing from 1-whatever "
   ]
  },
  {
   "cell_type": "code",
   "execution_count": 14,
   "id": "ace2b8a3",
   "metadata": {},
   "outputs": [
    {
     "name": "stdout",
     "output_type": "stream",
     "text": [
      "Accuracy of k-NN classifier with K=1 is 0.99\n",
      "Accuracy of k-NN classifier with K=2 is 0.98\n",
      "Accuracy of k-NN classifier with K=3 is 0.99\n",
      "Accuracy of k-NN classifier with K=4 is 0.98\n",
      "Accuracy of k-NN classifier with K=5 is 0.99\n",
      "Accuracy of k-NN classifier with K=6 is 0.98\n",
      "Accuracy of k-NN classifier with K=7 is 0.98\n",
      "Accuracy of k-NN classifier with K=8 is 0.98\n",
      "Accuracy of k-NN classifier with K=9 is 0.98\n",
      "Accuracy of k-NN classifier with K=10 is 0.98\n",
      "Accuracy of k-NN classifier with K=11 is 0.99\n",
      "Accuracy of k-NN classifier with K=12 is 0.99\n",
      "Accuracy of k-NN classifier with K=13 is 0.99\n",
      "Accuracy of k-NN classifier with K=14 is 0.99\n",
      "Accuracy of k-NN classifier with K=15 is 0.99\n",
      "Accuracy of k-NN classifier with K=16 is 0.99\n",
      "Accuracy of k-NN classifier with K=17 is 0.99\n",
      "Accuracy of k-NN classifier with K=18 is 0.99\n",
      "Accuracy of k-NN classifier with K=19 is 0.99\n",
      "Accuracy of k-NN classifier with K=20 is 0.99\n"
     ]
    }
   ],
   "source": [
    "for K in range(1, 21):\n",
    "    # Initialize the k-NN classifier with current K\n",
    "    knn = KNeighborsClassifier(n_neighbors=K)\n",
    "    \n",
    "    # Train the model\n",
    "    knn.fit(X_train, y_train)\n",
    "    \n",
    "    # Predict on the test set\n",
    "    y_pred = knn.predict(X_test)\n",
    "    \n",
    "    # Calculate accuracy\n",
    "    accuracy = accuracy_score(y_test, y_pred)\n",
    "    \n",
    "    # Print accuracy for each value of K\n",
    "    print(f'Accuracy of k-NN classifier with K={K} is {accuracy:.2f}')"
   ]
  },
  {
   "cell_type": "markdown",
   "id": "087c835f",
   "metadata": {},
   "source": [
    "## K-Fold"
   ]
  },
  {
   "cell_type": "code",
   "execution_count": 18,
   "id": "ddf31397",
   "metadata": {},
   "outputs": [
    {
     "name": "stdout",
     "output_type": "stream",
     "text": [
      "Accuracy scores for each fold: [0.98634812 0.98976109 0.98634812 0.99315068 0.99657534]\n",
      "Mean cross-validation accuracy: 0.9904366730562438\n"
     ]
    }
   ],
   "source": [
    "# Define the number of folds\n",
    "K = 5\n",
    "\n",
    "# Set up K-Fold cross-validation\n",
    "kf = KFold(n_splits=K, shuffle=True, random_state=0)\n",
    "\n",
    "# Create the KNN classifier\n",
    "knn = KNeighborsClassifier(n_neighbors=5)\n",
    "\n",
    "# Perform cross-validation\n",
    "cv_scores = cross_val_score(knn, scaled, fakebills['is_genuine'], cv=kf)\n",
    "\n",
    "# Print out each fold's accuracy score and the mean accuracy\n",
    "print(\"Accuracy scores for each fold:\", cv_scores)\n",
    "print(\"Mean cross-validation accuracy:\", np.mean(cv_scores))"
   ]
  }
 ],
 "metadata": {
  "kaggle": {
   "accelerator": "none",
   "dataSources": [
    {
     "datasetId": 2914044,
     "sourceId": 5021758,
     "sourceType": "datasetVersion"
    }
   ],
   "dockerImageVersionId": 30746,
   "isGpuEnabled": false,
   "isInternetEnabled": false,
   "language": "python",
   "sourceType": "notebook"
  },
  "kernelspec": {
   "display_name": "Python 3",
   "language": "python",
   "name": "python3"
  },
  "language_info": {
   "codemirror_mode": {
    "name": "ipython",
    "version": 3
   },
   "file_extension": ".py",
   "mimetype": "text/x-python",
   "name": "python",
   "nbconvert_exporter": "python",
   "pygments_lexer": "ipython3",
   "version": "3.11.5"
  },
  "papermill": {
   "default_parameters": {},
   "duration": 10.470973,
   "end_time": "2024-08-22T14:46:21.447127",
   "environment_variables": {},
   "exception": null,
   "input_path": "__notebook__.ipynb",
   "output_path": "__notebook__.ipynb",
   "parameters": {},
   "start_time": "2024-08-22T14:46:10.976154",
   "version": "2.5.0"
  }
 },
 "nbformat": 4,
 "nbformat_minor": 5
}
